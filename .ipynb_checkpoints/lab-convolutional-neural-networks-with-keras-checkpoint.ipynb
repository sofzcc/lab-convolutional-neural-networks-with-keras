{
 "cells": [
  {
   "cell_type": "markdown",
   "metadata": {},
   "source": [
    "In this lab, we will learn how to use the Keras library to build convolutional neural networks. We will also use the popular MNIST dataset and we will compare our results to using a conventional neural network.\n"
   ]
  },
  {
   "cell_type": "markdown",
   "metadata": {},
   "source": [
    "<h2>Convolutional Neural Networks with Keras</h2>\n",
    "\n",
    "<h3>Objective for this Notebook<h3>    \n",
    "<h5> 1. How to use the Keras library to build convolutional neural networks.</h5>\n",
    "<h5> 2. Convolutional Neural Network with One Convolutional and Pooling Layers.</h5>\n",
    "<h5> 3. Convolutional Neural Network with Two Convolutional and Pooling Layers.</h5>\n",
    "\n"
   ]
  },
  {
   "cell_type": "markdown",
   "metadata": {},
   "source": [
    "## Table of Contents\n",
    "\n",
    "<div class=\"alert alert-block alert-info\" style=\"margin-top: 20px\">\n",
    "\n",
    "<font size = 3>\n",
    "      \n",
    "1. <a href=\"#item41\">Import Keras and Packages</a>   \n",
    "2. <a href=\"#item42\">Convolutional Neural Network with One Convolutional and Pooling Layers</a>  \n",
    "3. <a href=\"#item43\">Convolutional Neural Network with Two Convolutional and Pooling Layers</a>  \n",
    "\n",
    "</font>\n",
    "</div>\n"
   ]
  },
  {
   "cell_type": "markdown",
   "metadata": {},
   "source": [
    "<a id='item41'></a>\n"
   ]
  },
  {
   "cell_type": "markdown",
   "metadata": {},
   "source": [
    "## Import Keras and Packages\n"
   ]
  },
  {
   "cell_type": "markdown",
   "metadata": {},
   "source": [
    "Let's start by importing the keras libraries and the packages that we would need to build a neural network.\n"
   ]
  },
  {
   "cell_type": "code",
   "execution_count": 4,
   "metadata": {},
   "outputs": [],
   "source": [
    "import keras\n",
    "from keras.models import Sequential\n",
    "from keras.layers import Dense\n",
    "from keras.utils import to_categorical\n"
   ]
  },
  {
   "cell_type": "markdown",
   "metadata": {},
   "source": [
    "When working with convolutional neural networks in particular, we will need additional packages.\n"
   ]
  },
  {
   "cell_type": "code",
   "execution_count": 12,
   "metadata": {},
   "outputs": [],
   "source": [
    "from tensorflow.keras.layers import Conv2D # to add convolutional layers\n",
    "from tensorflow.keras.layers import MaxPooling2D # to add pooling layers\n",
    "\n",
    "\n",
    "\n",
    "from keras.layers import Flatten # to flatten data for fully connected layers"
   ]
  },
  {
   "cell_type": "markdown",
   "metadata": {},
   "source": [
    "<a id='item42'></a>\n"
   ]
  },
  {
   "cell_type": "markdown",
   "metadata": {},
   "source": [
    "## Convolutional Layer with One set of convolutional and pooling layers\n"
   ]
  },
  {
   "cell_type": "code",
   "execution_count": 13,
   "metadata": {},
   "outputs": [],
   "source": [
    "# import data\n",
    "from keras.datasets import mnist\n",
    "\n",
    "# load data\n",
    "(X_train, y_train), (X_test, y_test) = mnist.load_data()\n",
    "\n",
    "# reshape to be [samples][pixels][width][height]\n",
    "X_train = X_train.reshape(X_train.shape[0], 28, 28, 1).astype('float32')\n",
    "X_test = X_test.reshape(X_test.shape[0], 28, 28, 1).astype('float32')"
   ]
  },
  {
   "cell_type": "markdown",
   "metadata": {},
   "source": [
    "Let's normalize the pixel values to be between 0 and 1\n"
   ]
  },
  {
   "cell_type": "code",
   "execution_count": 14,
   "metadata": {},
   "outputs": [],
   "source": [
    "X_train = X_train / 255 # normalize training data\n",
    "X_test = X_test / 255 # normalize test data"
   ]
  },
  {
   "cell_type": "markdown",
   "metadata": {},
   "source": [
    "Next, let's convert the target variable into binary categories\n"
   ]
  },
  {
   "cell_type": "code",
   "execution_count": 15,
   "metadata": {},
   "outputs": [],
   "source": [
    "y_train = to_categorical(y_train)\n",
    "y_test = to_categorical(y_test)\n",
    "\n",
    "num_classes = y_test.shape[1] # number of categories"
   ]
  },
  {
   "cell_type": "markdown",
   "metadata": {},
   "source": [
    "Next, let's define a function that creates our model. Let's start with one set of convolutional and pooling layers.\n"
   ]
  },
  {
   "cell_type": "code",
   "execution_count": 16,
   "metadata": {},
   "outputs": [],
   "source": [
    "def convolutional_model():\n",
    "    \n",
    "    # create model\n",
    "    model = Sequential()\n",
    "    model.add(Conv2D(16, (5, 5), strides=(1, 1), activation='relu', input_shape=(28, 28, 1)))\n",
    "    model.add(MaxPooling2D(pool_size=(2, 2), strides=(2, 2)))\n",
    "    \n",
    "    model.add(Flatten())\n",
    "    model.add(Dense(100, activation='relu'))\n",
    "    model.add(Dense(num_classes, activation='softmax'))\n",
    "    \n",
    "    # compile model\n",
    "    model.compile(optimizer='adam', loss='categorical_crossentropy',  metrics=['accuracy'])\n",
    "    return model"
   ]
  },
  {
   "cell_type": "markdown",
   "metadata": {},
   "source": [
    "Finally, let's call the function to create the model, and then let's train it and evaluate it.\n"
   ]
  },
  {
   "cell_type": "code",
   "execution_count": 17,
   "metadata": {},
   "outputs": [
    {
     "name": "stderr",
     "output_type": "stream",
     "text": [
      "/opt/anaconda3/lib/python3.11/site-packages/keras/src/layers/convolutional/base_conv.py:107: UserWarning: Do not pass an `input_shape`/`input_dim` argument to a layer. When using Sequential models, prefer using an `Input(shape)` object as the first layer in the model instead.\n",
      "  super().__init__(activity_regularizer=activity_regularizer, **kwargs)\n"
     ]
    },
    {
     "name": "stdout",
     "output_type": "stream",
     "text": [
      "Epoch 1/10\n",
      "300/300 - 14s - 47ms/step - accuracy: 0.9119 - loss: 0.3108 - val_accuracy: 0.9680 - val_loss: 0.1093\n",
      "Epoch 2/10\n",
      "300/300 - 13s - 43ms/step - accuracy: 0.9725 - loss: 0.0940 - val_accuracy: 0.9771 - val_loss: 0.0706\n",
      "Epoch 3/10\n",
      "300/300 - 14s - 45ms/step - accuracy: 0.9816 - loss: 0.0632 - val_accuracy: 0.9828 - val_loss: 0.0509\n",
      "Epoch 4/10\n",
      "300/300 - 13s - 42ms/step - accuracy: 0.9858 - loss: 0.0481 - val_accuracy: 0.9844 - val_loss: 0.0430\n",
      "Epoch 5/10\n",
      "300/300 - 12s - 40ms/step - accuracy: 0.9876 - loss: 0.0397 - val_accuracy: 0.9856 - val_loss: 0.0417\n",
      "Epoch 6/10\n",
      "300/300 - 11s - 38ms/step - accuracy: 0.9898 - loss: 0.0328 - val_accuracy: 0.9865 - val_loss: 0.0384\n",
      "Epoch 7/10\n",
      "300/300 - 12s - 39ms/step - accuracy: 0.9911 - loss: 0.0278 - val_accuracy: 0.9884 - val_loss: 0.0353\n",
      "Epoch 8/10\n",
      "300/300 - 12s - 41ms/step - accuracy: 0.9924 - loss: 0.0237 - val_accuracy: 0.9871 - val_loss: 0.0387\n",
      "Epoch 9/10\n",
      "300/300 - 12s - 41ms/step - accuracy: 0.9942 - loss: 0.0200 - val_accuracy: 0.9873 - val_loss: 0.0389\n",
      "Epoch 10/10\n",
      "300/300 - 15s - 49ms/step - accuracy: 0.9949 - loss: 0.0165 - val_accuracy: 0.9884 - val_loss: 0.0366\n",
      "Accuracy: 0.9883999824523926 \n",
      " Error: 1.1600017547607422\n"
     ]
    }
   ],
   "source": [
    "# build the model\n",
    "model = convolutional_model()\n",
    "\n",
    "# fit the model\n",
    "model.fit(X_train, y_train, validation_data=(X_test, y_test), epochs=10, batch_size=200, verbose=2)\n",
    "\n",
    "# evaluate the model\n",
    "scores = model.evaluate(X_test, y_test, verbose=0)\n",
    "print(\"Accuracy: {} \\n Error: {}\".format(scores[1], 100-scores[1]*100))"
   ]
  },
  {
   "cell_type": "markdown",
   "metadata": {},
   "source": [
    "------------------------------------------\n"
   ]
  },
  {
   "cell_type": "markdown",
   "metadata": {},
   "source": [
    "<a id='item43'></a>\n"
   ]
  },
  {
   "cell_type": "markdown",
   "metadata": {},
   "source": [
    "## Convolutional Layer with two sets of convolutional and pooling layers\n"
   ]
  },
  {
   "cell_type": "markdown",
   "metadata": {},
   "source": [
    "Let's redefine our convolutional model so that it has two convolutional and pooling layers instead of just one layer of each.\n"
   ]
  },
  {
   "cell_type": "code",
   "execution_count": 22,
   "metadata": {},
   "outputs": [],
   "source": [
    "def convolutional_model():\n",
    "    \n",
    "    # create model\n",
    "    model = Sequential()\n",
    "    model.add(Conv2D(16, (5, 5), activation='relu', input_shape=(28, 28, 1)))\n",
    "   \n",
    "    #add a 2D max pool layer with a stride of 2\n",
    "    model.add(MaxPooling2D(pool_size=(2, 2), strides=(2, 2))) \n",
    "   \n",
    "    #add a conv layer of size 8 with a kernel of side 2\n",
    "    model.add(Conv2D(8, (2, 2), activation='relu'))\n",
    "        \n",
    "    model.add(MaxPooling2D(pool_size=(2, 2), strides=(2, 2)))\n",
    "    \n",
    "    model.add(Flatten())\n",
    "    \n",
    "    #add a dense layer with 100 neurons\n",
    "    model.add(Dense(100, activation='relu')) \n",
    "    \n",
    "    #add a final layer and all its necessary components\n",
    "    model.add(Dense(num_classes, activation='softmax'))    #Output layer with num_classes neurons corresponding to each category \n",
    "    \n",
    "    # Compile model\n",
    "    model.compile(optimizer='adam', loss='categorical_crossentropy',  metrics=['accuracy'])\n",
    "    return model"
   ]
  },
  {
   "cell_type": "markdown",
   "metadata": {},
   "source": [
    "Now, let's call the function to create our new convolutional neural network, and then let's train it and evaluate it.\n"
   ]
  },
  {
   "cell_type": "code",
   "execution_count": 23,
   "metadata": {},
   "outputs": [
    {
     "name": "stdout",
     "output_type": "stream",
     "text": [
      "Epoch 1/10\n",
      "300/300 - 16s - 54ms/step - accuracy: 0.8710 - loss: 0.4617 - val_accuracy: 0.9628 - val_loss: 0.1254\n",
      "Epoch 2/10\n",
      "300/300 - 18s - 61ms/step - accuracy: 0.9658 - loss: 0.1140 - val_accuracy: 0.9736 - val_loss: 0.0857\n",
      "Epoch 3/10\n",
      "300/300 - 16s - 53ms/step - accuracy: 0.9734 - loss: 0.0843 - val_accuracy: 0.9778 - val_loss: 0.0707\n",
      "Epoch 4/10\n",
      "300/300 - 14s - 47ms/step - accuracy: 0.9790 - loss: 0.0699 - val_accuracy: 0.9822 - val_loss: 0.0539\n",
      "Epoch 5/10\n",
      "300/300 - 13s - 44ms/step - accuracy: 0.9815 - loss: 0.0595 - val_accuracy: 0.9830 - val_loss: 0.0520\n",
      "Epoch 6/10\n",
      "300/300 - 15s - 48ms/step - accuracy: 0.9839 - loss: 0.0534 - val_accuracy: 0.9842 - val_loss: 0.0512\n",
      "Epoch 7/10\n",
      "300/300 - 14s - 48ms/step - accuracy: 0.9858 - loss: 0.0465 - val_accuracy: 0.9847 - val_loss: 0.0453\n",
      "Epoch 8/10\n",
      "300/300 - 15s - 50ms/step - accuracy: 0.9869 - loss: 0.0431 - val_accuracy: 0.9849 - val_loss: 0.0464\n",
      "Epoch 9/10\n",
      "300/300 - 18s - 61ms/step - accuracy: 0.9882 - loss: 0.0386 - val_accuracy: 0.9839 - val_loss: 0.0470\n",
      "Epoch 10/10\n",
      "300/300 - 21s - 69ms/step - accuracy: 0.9890 - loss: 0.0357 - val_accuracy: 0.9865 - val_loss: 0.0403\n",
      "Accuracy: 0.9865000247955322 \n",
      " Error: 1.3499975204467773\n"
     ]
    }
   ],
   "source": [
    "# build the model\n",
    "model = convolutional_model()\n",
    "\n",
    "# fit the model\n",
    "model.fit(X_train, y_train, validation_data=(X_test, y_test), epochs=10, batch_size=200, verbose=2)\n",
    "\n",
    "# evaluate the model\n",
    "scores = model.evaluate(X_test, y_test, verbose=0)\n",
    "print(\"Accuracy: {} \\n Error: {}\".format(scores[1], 100-scores[1]*100))"
   ]
  },
  {
   "cell_type": "markdown",
   "metadata": {},
   "source": [
    "### Thank you for completing this lab!"
   ]
  }
 ],
 "metadata": {
  "kernelspec": {
   "display_name": "Python 3 (ipykernel)",
   "language": "python",
   "name": "python3"
  },
  "language_info": {
   "codemirror_mode": {
    "name": "ipython",
    "version": 3
   },
   "file_extension": ".py",
   "mimetype": "text/x-python",
   "name": "python",
   "nbconvert_exporter": "python",
   "pygments_lexer": "ipython3",
   "version": "3.11.7"
  }
 },
 "nbformat": 4,
 "nbformat_minor": 4
}
